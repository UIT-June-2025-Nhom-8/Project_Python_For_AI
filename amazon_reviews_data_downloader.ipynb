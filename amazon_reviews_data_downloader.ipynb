{
 "cells": [
  {
   "cell_type": "markdown",
   "id": "01830c5c",
   "metadata": {},
   "source": [
    "# Amazon Reviews Data Downloader\n",
    "\n",
    "This notebook downloads the Amazon Reviews dataset from Kaggle and stores it locally in the data folder.\n",
    "\n",
    "**Dataset URL**: https://www.kaggle.com/datasets/kritanjalijain/amazon-reviews/data\n",
    "\n",
    "## Prerequisites\n",
    "- Kaggle account and API key\n",
    "- Kaggle API key file (`kaggle.json`) placed in `~/.kaggle/` directory"
   ]
  },
  {
   "cell_type": "markdown",
   "id": "e9e224d3",
   "metadata": {},
   "source": [
    "## 1. Install Required Libraries\n",
    "\n",
    "Install the Kaggle API and other necessary libraries for downloading and handling data."
   ]
  },
  {
   "cell_type": "code",
   "execution_count": 1,
   "id": "abc2379e",
   "metadata": {},
   "outputs": [
    {
     "name": "stdout",
     "output_type": "stream",
     "text": [
      "Requirement already satisfied: kaggle in ./.venv/lib/python3.13/site-packages (1.7.4.5)\n",
      "Collecting pandas\n",
      "  Using cached pandas-2.3.1-cp313-cp313-macosx_11_0_arm64.whl.metadata (91 kB)\n",
      "Collecting numpy\n",
      "  Using cached numpy-2.3.2-cp313-cp313-macosx_14_0_arm64.whl.metadata (62 kB)\n",
      "Collecting matplotlib\n",
      "  Using cached matplotlib-3.10.5-cp313-cp313-macosx_11_0_arm64.whl.metadata (11 kB)\n",
      "Collecting seaborn\n",
      "  Using cached seaborn-0.13.2-py3-none-any.whl.metadata (5.4 kB)\n",
      "Requirement already satisfied: bleach in ./.venv/lib/python3.13/site-packages (from kaggle) (6.2.0)\n",
      "Requirement already satisfied: certifi>=14.05.14 in ./.venv/lib/python3.13/site-packages (from kaggle) (2025.8.3)\n",
      "Requirement already satisfied: charset-normalizer in ./.venv/lib/python3.13/site-packages (from kaggle) (3.4.3)\n",
      "Requirement already satisfied: idna in ./.venv/lib/python3.13/site-packages (from kaggle) (3.10)\n",
      "Requirement already satisfied: protobuf in ./.venv/lib/python3.13/site-packages (from kaggle) (6.31.1)\n",
      "Requirement already satisfied: python-dateutil>=2.5.3 in ./.venv/lib/python3.13/site-packages (from kaggle) (2.9.0.post0)\n",
      "Requirement already satisfied: python-slugify in ./.venv/lib/python3.13/site-packages (from kaggle) (8.0.4)\n",
      "Requirement already satisfied: requests in ./.venv/lib/python3.13/site-packages (from kaggle) (2.32.4)\n",
      "Requirement already satisfied: setuptools>=21.0.0 in ./.venv/lib/python3.13/site-packages (from kaggle) (80.9.0)\n",
      "Requirement already satisfied: six>=1.10 in ./.venv/lib/python3.13/site-packages (from kaggle) (1.17.0)\n",
      "Requirement already satisfied: text-unidecode in ./.venv/lib/python3.13/site-packages (from kaggle) (1.3)\n",
      "Requirement already satisfied: tqdm in ./.venv/lib/python3.13/site-packages (from kaggle) (4.67.1)\n",
      "Requirement already satisfied: urllib3>=1.15.1 in ./.venv/lib/python3.13/site-packages (from kaggle) (2.5.0)\n",
      "Requirement already satisfied: webencodings in ./.venv/lib/python3.13/site-packages (from kaggle) (0.5.1)\n",
      "Collecting pytz>=2020.1 (from pandas)\n",
      "  Using cached pytz-2025.2-py2.py3-none-any.whl.metadata (22 kB)\n",
      "Collecting tzdata>=2022.7 (from pandas)\n",
      "  Using cached tzdata-2025.2-py2.py3-none-any.whl.metadata (1.4 kB)\n",
      "Collecting contourpy>=1.0.1 (from matplotlib)\n",
      "  Using cached contourpy-1.3.3-cp313-cp313-macosx_11_0_arm64.whl.metadata (5.5 kB)\n",
      "Collecting cycler>=0.10 (from matplotlib)\n",
      "  Using cached cycler-0.12.1-py3-none-any.whl.metadata (3.8 kB)\n",
      "Collecting fonttools>=4.22.0 (from matplotlib)\n",
      "  Using cached fonttools-4.59.0-cp313-cp313-macosx_10_13_universal2.whl.metadata (107 kB)\n",
      "Collecting kiwisolver>=1.3.1 (from matplotlib)\n",
      "  Using cached kiwisolver-1.4.9-cp313-cp313-macosx_11_0_arm64.whl.metadata (6.3 kB)\n",
      "Requirement already satisfied: packaging>=20.0 in ./.venv/lib/python3.13/site-packages (from matplotlib) (25.0)\n",
      "Collecting pillow>=8 (from matplotlib)\n",
      "  Using cached pillow-11.3.0-cp313-cp313-macosx_11_0_arm64.whl.metadata (9.0 kB)\n",
      "Collecting pyparsing>=2.3.1 (from matplotlib)\n",
      "  Using cached pyparsing-3.2.3-py3-none-any.whl.metadata (5.0 kB)\n",
      "Using cached pandas-2.3.1-cp313-cp313-macosx_11_0_arm64.whl (10.7 MB)\n",
      "Using cached numpy-2.3.2-cp313-cp313-macosx_14_0_arm64.whl (5.1 MB)\n",
      "Using cached matplotlib-3.10.5-cp313-cp313-macosx_11_0_arm64.whl (8.1 MB)\n",
      "Using cached seaborn-0.13.2-py3-none-any.whl (294 kB)\n",
      "Using cached contourpy-1.3.3-cp313-cp313-macosx_11_0_arm64.whl (274 kB)\n",
      "Using cached cycler-0.12.1-py3-none-any.whl (8.3 kB)\n",
      "Using cached fonttools-4.59.0-cp313-cp313-macosx_10_13_universal2.whl (2.8 MB)\n",
      "Using cached kiwisolver-1.4.9-cp313-cp313-macosx_11_0_arm64.whl (64 kB)\n",
      "Using cached pillow-11.3.0-cp313-cp313-macosx_11_0_arm64.whl (4.7 MB)\n",
      "Using cached pyparsing-3.2.3-py3-none-any.whl (111 kB)\n",
      "Using cached pytz-2025.2-py2.py3-none-any.whl (509 kB)\n",
      "Using cached tzdata-2025.2-py2.py3-none-any.whl (347 kB)\n",
      "Installing collected packages: pytz, tzdata, pyparsing, pillow, numpy, kiwisolver, fonttools, cycler, pandas, contourpy, matplotlib, seaborn\n",
      "\u001b[2K   \u001b[38;2;114;156;31m━━━━━━━━━━━━━━━━━━━━━━━━━━━━━━━━━━━━━━━━\u001b[0m \u001b[32m12/12\u001b[0m [seaborn];237m━━━\u001b[0m \u001b[32m11/12\u001b[0m [seaborn]\n",
      "\u001b[1A\u001b[2KSuccessfully installed contourpy-1.3.3 cycler-0.12.1 fonttools-4.59.0 kiwisolver-1.4.9 matplotlib-3.10.5 numpy-2.3.2 pandas-2.3.1 pillow-11.3.0 pyparsing-3.2.3 pytz-2025.2 seaborn-0.13.2 tzdata-2025.2\n"
     ]
    }
   ],
   "source": [
    "# Install required packages\n",
    "!pip install kaggle pandas numpy matplotlib seaborn"
   ]
  },
  {
   "cell_type": "markdown",
   "id": "91da3873",
   "metadata": {},
   "source": [
    "## 2. Import Libraries and Setup\n",
    "\n",
    "Import required libraries including kaggle, os, zipfile, and pandas for data handling."
   ]
  },
  {
   "cell_type": "code",
   "execution_count": 4,
   "id": "535a48e9",
   "metadata": {},
   "outputs": [
    {
     "name": "stdout",
     "output_type": "stream",
     "text": [
      "Libraries imported successfully!\n"
     ]
    }
   ],
   "source": [
    "import os\n",
    "import zipfile\n",
    "import pandas as pd\n",
    "import numpy as np\n",
    "from pathlib import Path\n",
    "import shutil\n",
    "from kaggle.api.kaggle_api_extended import KaggleApi\n",
    "\n",
    "print(\"Libraries imported successfully!\")"
   ]
  },
  {
   "cell_type": "markdown",
   "id": "38de6394",
   "metadata": {},
   "source": [
    "## 3. Configure Kaggle API\n",
    "\n",
    "Set up Kaggle API credentials and configure authentication to access datasets.\n",
    "\n",
    "**Note**: Make sure you have your `kaggle.json` file in the `~/.kaggle/` directory. You can download it from your Kaggle account settings."
   ]
  },
  {
   "cell_type": "code",
   "execution_count": 6,
   "id": "19036351",
   "metadata": {},
   "outputs": [
    {
     "name": "stdout",
     "output_type": "stream",
     "text": [
      "Kaggle API authenticated successfully!\n",
      "Target dataset: kritanjalijain/amazon-reviews\n"
     ]
    }
   ],
   "source": [
    "# Initialize Kaggle API\n",
    "api = KaggleApi()\n",
    "api.authenticate()\n",
    "\n",
    "print(\"Kaggle API authenticated successfully!\")\n",
    "\n",
    "# Dataset identifier\n",
    "dataset_name = \"kritanjalijain/amazon-reviews\"\n",
    "print(f\"Target dataset: {dataset_name}\")"
   ]
  },
  {
   "cell_type": "markdown",
   "id": "83074f1c",
   "metadata": {},
   "source": [
    "## 4. Create Data Directory\n",
    "\n",
    "Create a local 'data' directory to store the downloaded dataset, ensuring it exists and is properly structured."
   ]
  },
  {
   "cell_type": "code",
   "execution_count": 7,
   "id": "83c92acf",
   "metadata": {},
   "outputs": [
    {
     "name": "stdout",
     "output_type": "stream",
     "text": [
      "Data directory created: /Users/ducqhle/Documents/UIT_workspace/Project_Python_For_AI/data\n",
      "Amazon reviews directory: /Users/ducqhle/Documents/UIT_workspace/Project_Python_For_AI/data/amazon_reviews\n",
      "\n",
      "Current contents of data directory:\n",
      "  - amazon_reviews\n"
     ]
    }
   ],
   "source": [
    "# Define data directory path\n",
    "data_dir = Path(\"data\")\n",
    "amazon_data_dir = data_dir / \"amazon_reviews\"\n",
    "\n",
    "# Create directories if they don't exist\n",
    "data_dir.mkdir(exist_ok=True)\n",
    "amazon_data_dir.mkdir(exist_ok=True)\n",
    "\n",
    "print(f\"Data directory created: {data_dir.absolute()}\")\n",
    "print(f\"Amazon reviews directory: {amazon_data_dir.absolute()}\")\n",
    "\n",
    "# List existing contents\n",
    "print(\"\\nCurrent contents of data directory:\")\n",
    "for item in data_dir.iterdir():\n",
    "    print(f\"  - {item.name}\")"
   ]
  },
  {
   "cell_type": "markdown",
   "id": "58da1370",
   "metadata": {},
   "source": [
    "## 5. Download Amazon Reviews Dataset\n",
    "\n",
    "Use the Kaggle API to download the Amazon Reviews dataset from the specified URL to the local data folder."
   ]
  },
  {
   "cell_type": "code",
   "execution_count": 8,
   "id": "85084dd7",
   "metadata": {},
   "outputs": [
    {
     "name": "stdout",
     "output_type": "stream",
     "text": [
      "Downloading dataset: kritanjalijain/amazon-reviews\n",
      "Destination: /Users/ducqhle/Documents/UIT_workspace/Project_Python_For_AI/data/amazon_reviews\n",
      "Dataset URL: https://www.kaggle.com/datasets/kritanjalijain/amazon-reviews\n",
      "✅ Dataset downloaded and extracted successfully!\n"
     ]
    }
   ],
   "source": [
    "# Download the dataset\n",
    "print(f\"Downloading dataset: {dataset_name}\")\n",
    "print(f\"Destination: {amazon_data_dir.absolute()}\")\n",
    "\n",
    "try:\n",
    "    api.dataset_download_files(\n",
    "        dataset_name, \n",
    "        path=str(amazon_data_dir), \n",
    "        unzip=True\n",
    "    )\n",
    "    print(\"✅ Dataset downloaded and extracted successfully!\")\n",
    "except Exception as e:\n",
    "    print(f\"❌ Error downloading dataset: {e}\")\n",
    "    print(\"Please check your Kaggle API credentials and internet connection.\")"
   ]
  },
  {
   "cell_type": "markdown",
   "id": "f83e9f87",
   "metadata": {},
   "source": [
    "## 6. Extract and Organize Data\n",
    "\n",
    "Extract downloaded zip files and organize the data files in the appropriate directory structure."
   ]
  },
  {
   "cell_type": "code",
   "execution_count": 9,
   "id": "13aa0f3c",
   "metadata": {},
   "outputs": [
    {
     "name": "stdout",
     "output_type": "stream",
     "text": [
      "No additional zip files found to extract.\n",
      "\n",
      "📁 Data organization complete!\n"
     ]
    }
   ],
   "source": [
    "# Check for any remaining zip files and extract them\n",
    "zip_files = list(amazon_data_dir.glob(\"*.zip\"))\n",
    "\n",
    "if zip_files:\n",
    "    print(f\"Found {len(zip_files)} zip file(s) to extract:\")\n",
    "    for zip_file in zip_files:\n",
    "        print(f\"  - {zip_file.name}\")\n",
    "        \n",
    "        # Extract zip file\n",
    "        with zipfile.ZipFile(zip_file, 'r') as zip_ref:\n",
    "            zip_ref.extractall(amazon_data_dir)\n",
    "        \n",
    "        # Remove the zip file after extraction\n",
    "        zip_file.unlink()\n",
    "        print(f\"    ✅ Extracted and removed {zip_file.name}\")\n",
    "else:\n",
    "    print(\"No additional zip files found to extract.\")\n",
    "\n",
    "print(\"\\n📁 Data organization complete!\")"
   ]
  },
  {
   "cell_type": "markdown",
   "id": "e5351a6f",
   "metadata": {},
   "source": [
    "## 7. Verify Downloaded Data\n",
    "\n",
    "Check the downloaded files, display file sizes, and preview the data structure to confirm successful download."
   ]
  },
  {
   "cell_type": "code",
   "execution_count": 10,
   "id": "a73355d6",
   "metadata": {},
   "outputs": [
    {
     "name": "stdout",
     "output_type": "stream",
     "text": [
      "📋 Downloaded files:\n",
      "==================================================\n",
      "  📄 test.csv (167.9 MB)\n",
      "  📄 amazon_review_polarity_csv.tgz (656.5 MB)\n",
      "  📄 train.csv (1.5 GB)\n",
      "\n",
      "==================================================\n",
      "📊 Summary: 3 files, Total size: 2.3 GB\n"
     ]
    }
   ],
   "source": [
    "# List all files in the amazon reviews directory\n",
    "print(\"📋 Downloaded files:\")\n",
    "print(\"=\" * 50)\n",
    "\n",
    "total_size = 0\n",
    "file_count = 0\n",
    "\n",
    "for file_path in amazon_data_dir.rglob(\"*\"):\n",
    "    if file_path.is_file():\n",
    "        file_size = file_path.stat().st_size\n",
    "        total_size += file_size\n",
    "        file_count += 1\n",
    "        \n",
    "        # Convert bytes to human readable format\n",
    "        if file_size < 1024:\n",
    "            size_str = f\"{file_size} B\"\n",
    "        elif file_size < 1024**2:\n",
    "            size_str = f\"{file_size/1024:.1f} KB\"\n",
    "        elif file_size < 1024**3:\n",
    "            size_str = f\"{file_size/(1024**2):.1f} MB\"\n",
    "        else:\n",
    "            size_str = f\"{file_size/(1024**3):.1f} GB\"\n",
    "        \n",
    "        rel_path = file_path.relative_to(amazon_data_dir)\n",
    "        print(f\"  📄 {rel_path} ({size_str})\")\n",
    "\n",
    "# Total size\n",
    "if total_size < 1024**3:\n",
    "    total_size_str = f\"{total_size/(1024**2):.1f} MB\"\n",
    "else:\n",
    "    total_size_str = f\"{total_size/(1024**3):.1f} GB\"\n",
    "\n",
    "print(\"\\n\" + \"=\" * 50)\n",
    "print(f\"📊 Summary: {file_count} files, Total size: {total_size_str}\")"
   ]
  },
  {
   "cell_type": "markdown",
   "id": "7b3b3870",
   "metadata": {},
   "source": [
    "## 8. Preview Data Structure\n",
    "\n",
    "Let's take a quick look at the structure of the downloaded data files."
   ]
  },
  {
   "cell_type": "code",
   "execution_count": 11,
   "id": "abdf7070",
   "metadata": {},
   "outputs": [
    {
     "name": "stdout",
     "output_type": "stream",
     "text": [
      "Found 2 CSV file(s):\n",
      "\n",
      "📊 Preview of test.csv:\n",
      "----------------------------------------\n",
      "Shape: (5, 3)\n",
      "Columns: ['2', 'Great CD', 'My lovely Pat has one of the GREAT voices of her generation. I have listened to this CD for YEARS and I still LOVE IT. When I\\'m in a good mood it makes me feel better. A bad mood just evaporates like sugar in the rain. This CD just oozes LIFE. Vocals are jusat STUUNNING and lyrics just kill. One of life\\'s hidden gems. This is a desert isle CD in my book. Why she never made it big is just beyond me. Everytime I play this, no matter black, white, young, old, male, female EVERYBODY says one thing \"Who was that singing ?\"']\n",
      "\n",
      "First few rows:\n"
     ]
    },
    {
     "data": {
      "text/html": [
       "<div>\n",
       "<style scoped>\n",
       "    .dataframe tbody tr th:only-of-type {\n",
       "        vertical-align: middle;\n",
       "    }\n",
       "\n",
       "    .dataframe tbody tr th {\n",
       "        vertical-align: top;\n",
       "    }\n",
       "\n",
       "    .dataframe thead th {\n",
       "        text-align: right;\n",
       "    }\n",
       "</style>\n",
       "<table border=\"1\" class=\"dataframe\">\n",
       "  <thead>\n",
       "    <tr style=\"text-align: right;\">\n",
       "      <th></th>\n",
       "      <th>2</th>\n",
       "      <th>Great CD</th>\n",
       "      <th>My lovely Pat has one of the GREAT voices of her generation. I have listened to this CD for YEARS and I still LOVE IT. When I'm in a good mood it makes me feel better. A bad mood just evaporates like sugar in the rain. This CD just oozes LIFE. Vocals are jusat STUUNNING and lyrics just kill. One of life's hidden gems. This is a desert isle CD in my book. Why she never made it big is just beyond me. Everytime I play this, no matter black, white, young, old, male, female EVERYBODY says one thing \"Who was that singing ?\"</th>\n",
       "    </tr>\n",
       "  </thead>\n",
       "  <tbody>\n",
       "    <tr>\n",
       "      <th>0</th>\n",
       "      <td>2</td>\n",
       "      <td>One of the best game music soundtracks - for a...</td>\n",
       "      <td>Despite the fact that I have only played a sma...</td>\n",
       "    </tr>\n",
       "    <tr>\n",
       "      <th>1</th>\n",
       "      <td>1</td>\n",
       "      <td>Batteries died within a year ...</td>\n",
       "      <td>I bought this charger in Jul 2003 and it worke...</td>\n",
       "    </tr>\n",
       "    <tr>\n",
       "      <th>2</th>\n",
       "      <td>2</td>\n",
       "      <td>works fine, but Maha Energy is better</td>\n",
       "      <td>Check out Maha Energy's website. Their Powerex...</td>\n",
       "    </tr>\n",
       "    <tr>\n",
       "      <th>3</th>\n",
       "      <td>2</td>\n",
       "      <td>Great for the non-audiophile</td>\n",
       "      <td>Reviewed quite a bit of the combo players and ...</td>\n",
       "    </tr>\n",
       "    <tr>\n",
       "      <th>4</th>\n",
       "      <td>1</td>\n",
       "      <td>DVD Player crapped out after one year</td>\n",
       "      <td>I also began having the incorrect disc problem...</td>\n",
       "    </tr>\n",
       "  </tbody>\n",
       "</table>\n",
       "</div>"
      ],
      "text/plain": [
       "   2                                           Great CD  \\\n",
       "0  2  One of the best game music soundtracks - for a...   \n",
       "1  1                   Batteries died within a year ...   \n",
       "2  2              works fine, but Maha Energy is better   \n",
       "3  2                       Great for the non-audiophile   \n",
       "4  1              DVD Player crapped out after one year   \n",
       "\n",
       "  My lovely Pat has one of the GREAT voices of her generation. I have listened to this CD for YEARS and I still LOVE IT. When I'm in a good mood it makes me feel better. A bad mood just evaporates like sugar in the rain. This CD just oozes LIFE. Vocals are jusat STUUNNING and lyrics just kill. One of life's hidden gems. This is a desert isle CD in my book. Why she never made it big is just beyond me. Everytime I play this, no matter black, white, young, old, male, female EVERYBODY says one thing \"Who was that singing ?\"  \n",
       "0  Despite the fact that I have only played a sma...                                                                                                                                                                                                                                                                                                                                                                                                                                                                                           \n",
       "1  I bought this charger in Jul 2003 and it worke...                                                                                                                                                                                                                                                                                                                                                                                                                                                                                           \n",
       "2  Check out Maha Energy's website. Their Powerex...                                                                                                                                                                                                                                                                                                                                                                                                                                                                                           \n",
       "3  Reviewed quite a bit of the combo players and ...                                                                                                                                                                                                                                                                                                                                                                                                                                                                                           \n",
       "4  I also began having the incorrect disc problem...                                                                                                                                                                                                                                                                                                                                                                                                                                                                                           "
      ]
     },
     "metadata": {},
     "output_type": "display_data"
    },
    {
     "name": "stdout",
     "output_type": "stream",
     "text": [
      "\n",
      "Data types:\n",
      "2                                                                                                                                                                                                                                                                                                                                                                                                                                                                                                                                               int64\n",
      "Great CD                                                                                                                                                                                                                                                                                                                                                                                                                                                                                                                                       object\n",
      "My lovely Pat has one of the GREAT voices of her generation. I have listened to this CD for YEARS and I still LOVE IT. When I'm in a good mood it makes me feel better. A bad mood just evaporates like sugar in the rain. This CD just oozes LIFE. Vocals are jusat STUUNNING and lyrics just kill. One of life's hidden gems. This is a desert isle CD in my book. Why she never made it big is just beyond me. Everytime I play this, no matter black, white, young, old, male, female EVERYBODY says one thing \"Who was that singing ?\"    object\n",
      "dtype: object\n",
      "\n",
      "📊 Preview of train.csv:\n",
      "----------------------------------------\n",
      "Shape: (5, 3)\n",
      "Columns: ['2', 'Stuning even for the non-gamer', 'This sound track was beautiful! It paints the senery in your mind so well I would recomend it even to people who hate vid. game music! I have played the game Chrono Cross but out of all of the games I have ever played it has the best music! It backs away from crude keyboarding and takes a fresher step with grate guitars and soulful orchestras. It would impress anyone who cares to listen! ^_^']\n",
      "\n",
      "First few rows:\n"
     ]
    },
    {
     "data": {
      "text/html": [
       "<div>\n",
       "<style scoped>\n",
       "    .dataframe tbody tr th:only-of-type {\n",
       "        vertical-align: middle;\n",
       "    }\n",
       "\n",
       "    .dataframe tbody tr th {\n",
       "        vertical-align: top;\n",
       "    }\n",
       "\n",
       "    .dataframe thead th {\n",
       "        text-align: right;\n",
       "    }\n",
       "</style>\n",
       "<table border=\"1\" class=\"dataframe\">\n",
       "  <thead>\n",
       "    <tr style=\"text-align: right;\">\n",
       "      <th></th>\n",
       "      <th>2</th>\n",
       "      <th>Stuning even for the non-gamer</th>\n",
       "      <th>This sound track was beautiful! It paints the senery in your mind so well I would recomend it even to people who hate vid. game music! I have played the game Chrono Cross but out of all of the games I have ever played it has the best music! It backs away from crude keyboarding and takes a fresher step with grate guitars and soulful orchestras. It would impress anyone who cares to listen! ^_^</th>\n",
       "    </tr>\n",
       "  </thead>\n",
       "  <tbody>\n",
       "    <tr>\n",
       "      <th>0</th>\n",
       "      <td>2</td>\n",
       "      <td>The best soundtrack ever to anything.</td>\n",
       "      <td>I'm reading a lot of reviews saying that this ...</td>\n",
       "    </tr>\n",
       "    <tr>\n",
       "      <th>1</th>\n",
       "      <td>2</td>\n",
       "      <td>Amazing!</td>\n",
       "      <td>This soundtrack is my favorite music of all ti...</td>\n",
       "    </tr>\n",
       "    <tr>\n",
       "      <th>2</th>\n",
       "      <td>2</td>\n",
       "      <td>Excellent Soundtrack</td>\n",
       "      <td>I truly like this soundtrack and I enjoy video...</td>\n",
       "    </tr>\n",
       "    <tr>\n",
       "      <th>3</th>\n",
       "      <td>2</td>\n",
       "      <td>Remember, Pull Your Jaw Off The Floor After He...</td>\n",
       "      <td>If you've played the game, you know how divine...</td>\n",
       "    </tr>\n",
       "    <tr>\n",
       "      <th>4</th>\n",
       "      <td>2</td>\n",
       "      <td>an absolute masterpiece</td>\n",
       "      <td>I am quite sure any of you actually taking the...</td>\n",
       "    </tr>\n",
       "  </tbody>\n",
       "</table>\n",
       "</div>"
      ],
      "text/plain": [
       "   2                     Stuning even for the non-gamer  \\\n",
       "0  2              The best soundtrack ever to anything.   \n",
       "1  2                                           Amazing!   \n",
       "2  2                               Excellent Soundtrack   \n",
       "3  2  Remember, Pull Your Jaw Off The Floor After He...   \n",
       "4  2                            an absolute masterpiece   \n",
       "\n",
       "  This sound track was beautiful! It paints the senery in your mind so well I would recomend it even to people who hate vid. game music! I have played the game Chrono Cross but out of all of the games I have ever played it has the best music! It backs away from crude keyboarding and takes a fresher step with grate guitars and soulful orchestras. It would impress anyone who cares to listen! ^_^  \n",
       "0  I'm reading a lot of reviews saying that this ...                                                                                                                                                                                                                                                                                                                                                          \n",
       "1  This soundtrack is my favorite music of all ti...                                                                                                                                                                                                                                                                                                                                                          \n",
       "2  I truly like this soundtrack and I enjoy video...                                                                                                                                                                                                                                                                                                                                                          \n",
       "3  If you've played the game, you know how divine...                                                                                                                                                                                                                                                                                                                                                          \n",
       "4  I am quite sure any of you actually taking the...                                                                                                                                                                                                                                                                                                                                                          "
      ]
     },
     "metadata": {},
     "output_type": "display_data"
    },
    {
     "name": "stdout",
     "output_type": "stream",
     "text": [
      "\n",
      "Data types:\n",
      "2                                                                                                                                                                                                                                                                                                                                                                                                              int64\n",
      "Stuning even for the non-gamer                                                                                                                                                                                                                                                                                                                                                                                object\n",
      "This sound track was beautiful! It paints the senery in your mind so well I would recomend it even to people who hate vid. game music! I have played the game Chrono Cross but out of all of the games I have ever played it has the best music! It backs away from crude keyboarding and takes a fresher step with grate guitars and soulful orchestras. It would impress anyone who cares to listen! ^_^    object\n",
      "dtype: object\n"
     ]
    }
   ],
   "source": [
    "# Find CSV files to preview\n",
    "csv_files = list(amazon_data_dir.glob(\"*.csv\"))\n",
    "\n",
    "if csv_files:\n",
    "    print(f\"Found {len(csv_files)} CSV file(s):\")\n",
    "    \n",
    "    for csv_file in csv_files[:3]:  # Preview first 3 CSV files\n",
    "        print(f\"\\n📊 Preview of {csv_file.name}:\")\n",
    "        print(\"-\" * 40)\n",
    "        \n",
    "        try:\n",
    "            # Read a sample of the data\n",
    "            df = pd.read_csv(csv_file, nrows=5)\n",
    "            \n",
    "            print(f\"Shape: {df.shape}\")\n",
    "            print(f\"Columns: {list(df.columns)}\")\n",
    "            print(\"\\nFirst few rows:\")\n",
    "            display(df.head())\n",
    "            \n",
    "            # Show data types\n",
    "            print(\"\\nData types:\")\n",
    "            print(df.dtypes)\n",
    "            \n",
    "        except Exception as e:\n",
    "            print(f\"Error reading {csv_file.name}: {e}\")\n",
    "else:\n",
    "    print(\"No CSV files found. Let's check for other data formats...\")\n",
    "    \n",
    "    # Check for other common data formats\n",
    "    other_formats = {\n",
    "        \"JSON\": list(amazon_data_dir.glob(\"*.json\")),\n",
    "        \"Parquet\": list(amazon_data_dir.glob(\"*.parquet\")),\n",
    "        \"TSV\": list(amazon_data_dir.glob(\"*.tsv\")),\n",
    "        \"TXT\": list(amazon_data_dir.glob(\"*.txt\"))\n",
    "    }\n",
    "    \n",
    "    for format_name, files in other_formats.items():\n",
    "        if files:\n",
    "            print(f\"\\n{format_name} files found:\")\n",
    "            for file in files[:3]:  # Show first 3 files of each type\n",
    "                print(f\"  - {file.name}\")"
   ]
  },
  {
   "cell_type": "markdown",
   "id": "d166784e",
   "metadata": {},
   "source": [
    "## 🎉 Download Complete!\n",
    "\n",
    "The Amazon Reviews dataset has been successfully downloaded to the `data/amazon_reviews/` directory.\n",
    "\n",
    "### Next Steps:\n",
    "1. **Explore the data**: Use the files in the `data/amazon_reviews/` directory for your analysis\n",
    "2. **Data preprocessing**: Clean and prepare the data for machine learning\n",
    "3. **Analysis**: Perform sentiment analysis, rating prediction, or other ML tasks\n",
    "\n",
    "### Important Notes:\n",
    "- The `data/` folder is ignored by Git (configured in `.gitignore`) due to large file sizes\n",
    "- Make sure to re-run this notebook if you need to refresh the dataset\n",
    "- Keep your Kaggle API credentials secure and never commit them to version control"
   ]
  }
 ],
 "metadata": {
  "kernelspec": {
   "display_name": ".venv",
   "language": "python",
   "name": "python3"
  },
  "language_info": {
   "codemirror_mode": {
    "name": "ipython",
    "version": 3
   },
   "file_extension": ".py",
   "mimetype": "text/x-python",
   "name": "python",
   "nbconvert_exporter": "python",
   "pygments_lexer": "ipython3",
   "version": "3.13.5"
  }
 },
 "nbformat": 4,
 "nbformat_minor": 5
}
