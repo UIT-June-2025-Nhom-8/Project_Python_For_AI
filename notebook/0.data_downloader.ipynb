{
 "cells": [
  {
   "cell_type": "markdown",
   "id": "01830c5c",
   "metadata": {},
   "source": [
    "# Công Cụ Tải Dữ Liệu Đánh Giá Amazon\n",
    "\n",
    "Notebook này tải xuống bộ dữ liệu Amazon Reviews từ Kaggle và lưu trữ cục bộ trong thư mục data.\n",
    "\n",
    "**URL Dataset**: https://www.kaggle.com/datasets/kritanjalijain/amazon-reviews/data\n",
    "\n",
    "## Yêu Cầu Tiên Quyết\n",
    "- Tài khoản Kaggle và API key\n",
    "- File API key Kaggle (`kaggle.json`) được đặt trong thư mục `~/.kaggle/`"
   ]
  },
  {
   "cell_type": "markdown",
   "id": "e9e224d3",
   "metadata": {},
   "source": [
    "## 1. Cài Đặt Thư Viện Cần Thiết\n",
    "\n",
    "Cài đặt Kaggle API và các thư viện cần thiết khác để tải xuống và xử lý dữ liệu."
   ]
  },
  {
   "cell_type": "code",
   "execution_count": 1,
   "id": "abc2379e",
   "metadata": {},
   "outputs": [
    {
     "name": "stdout",
     "output_type": "stream",
     "text": [
      "Requirement already satisfied: kaggle in /Users/ducqhle/Documents/UIT_workspace/Project_Python_For_AI/.venv/lib/python3.13/site-packages (1.7.4.5)\n",
      "Requirement already satisfied: pandas in /Users/ducqhle/Documents/UIT_workspace/Project_Python_For_AI/.venv/lib/python3.13/site-packages (2.3.1)\n",
      "Requirement already satisfied: numpy in /Users/ducqhle/Documents/UIT_workspace/Project_Python_For_AI/.venv/lib/python3.13/site-packages (2.3.2)\n",
      "Requirement already satisfied: matplotlib in /Users/ducqhle/Documents/UIT_workspace/Project_Python_For_AI/.venv/lib/python3.13/site-packages (3.10.5)\n",
      "Requirement already satisfied: seaborn in /Users/ducqhle/Documents/UIT_workspace/Project_Python_For_AI/.venv/lib/python3.13/site-packages (0.13.2)\n",
      "Requirement already satisfied: bleach in /Users/ducqhle/Documents/UIT_workspace/Project_Python_For_AI/.venv/lib/python3.13/site-packages (from kaggle) (6.2.0)\n",
      "Requirement already satisfied: certifi>=14.05.14 in /Users/ducqhle/Documents/UIT_workspace/Project_Python_For_AI/.venv/lib/python3.13/site-packages (from kaggle) (2025.8.3)\n",
      "Requirement already satisfied: charset-normalizer in /Users/ducqhle/Documents/UIT_workspace/Project_Python_For_AI/.venv/lib/python3.13/site-packages (from kaggle) (3.4.3)\n",
      "Requirement already satisfied: idna in /Users/ducqhle/Documents/UIT_workspace/Project_Python_For_AI/.venv/lib/python3.13/site-packages (from kaggle) (3.10)\n",
      "Requirement already satisfied: protobuf in /Users/ducqhle/Documents/UIT_workspace/Project_Python_For_AI/.venv/lib/python3.13/site-packages (from kaggle) (6.31.1)\n",
      "Requirement already satisfied: python-dateutil>=2.5.3 in /Users/ducqhle/Documents/UIT_workspace/Project_Python_For_AI/.venv/lib/python3.13/site-packages (from kaggle) (2.9.0.post0)\n",
      "Requirement already satisfied: python-slugify in /Users/ducqhle/Documents/UIT_workspace/Project_Python_For_AI/.venv/lib/python3.13/site-packages (from kaggle) (8.0.4)\n",
      "Requirement already satisfied: requests in /Users/ducqhle/Documents/UIT_workspace/Project_Python_For_AI/.venv/lib/python3.13/site-packages (from kaggle) (2.32.4)\n",
      "Requirement already satisfied: setuptools>=21.0.0 in /Users/ducqhle/Documents/UIT_workspace/Project_Python_For_AI/.venv/lib/python3.13/site-packages (from kaggle) (80.9.0)\n",
      "Requirement already satisfied: six>=1.10 in /Users/ducqhle/Documents/UIT_workspace/Project_Python_For_AI/.venv/lib/python3.13/site-packages (from kaggle) (1.17.0)\n",
      "Requirement already satisfied: text-unidecode in /Users/ducqhle/Documents/UIT_workspace/Project_Python_For_AI/.venv/lib/python3.13/site-packages (from kaggle) (1.3)\n",
      "Requirement already satisfied: tqdm in /Users/ducqhle/Documents/UIT_workspace/Project_Python_For_AI/.venv/lib/python3.13/site-packages (from kaggle) (4.67.1)\n",
      "Requirement already satisfied: urllib3>=1.15.1 in /Users/ducqhle/Documents/UIT_workspace/Project_Python_For_AI/.venv/lib/python3.13/site-packages (from kaggle) (2.5.0)\n",
      "Requirement already satisfied: webencodings in /Users/ducqhle/Documents/UIT_workspace/Project_Python_For_AI/.venv/lib/python3.13/site-packages (from kaggle) (0.5.1)\n",
      "Requirement already satisfied: pytz>=2020.1 in /Users/ducqhle/Documents/UIT_workspace/Project_Python_For_AI/.venv/lib/python3.13/site-packages (from pandas) (2025.2)\n",
      "Requirement already satisfied: tzdata>=2022.7 in /Users/ducqhle/Documents/UIT_workspace/Project_Python_For_AI/.venv/lib/python3.13/site-packages (from pandas) (2025.2)\n",
      "Requirement already satisfied: contourpy>=1.0.1 in /Users/ducqhle/Documents/UIT_workspace/Project_Python_For_AI/.venv/lib/python3.13/site-packages (from matplotlib) (1.3.3)\n",
      "Requirement already satisfied: cycler>=0.10 in /Users/ducqhle/Documents/UIT_workspace/Project_Python_For_AI/.venv/lib/python3.13/site-packages (from matplotlib) (0.12.1)\n",
      "Requirement already satisfied: fonttools>=4.22.0 in /Users/ducqhle/Documents/UIT_workspace/Project_Python_For_AI/.venv/lib/python3.13/site-packages (from matplotlib) (4.59.0)\n",
      "Requirement already satisfied: kiwisolver>=1.3.1 in /Users/ducqhle/Documents/UIT_workspace/Project_Python_For_AI/.venv/lib/python3.13/site-packages (from matplotlib) (1.4.9)\n",
      "Requirement already satisfied: packaging>=20.0 in /Users/ducqhle/Documents/UIT_workspace/Project_Python_For_AI/.venv/lib/python3.13/site-packages (from matplotlib) (25.0)\n",
      "Requirement already satisfied: pillow>=8 in /Users/ducqhle/Documents/UIT_workspace/Project_Python_For_AI/.venv/lib/python3.13/site-packages (from matplotlib) (11.3.0)\n",
      "Requirement already satisfied: pyparsing>=2.3.1 in /Users/ducqhle/Documents/UIT_workspace/Project_Python_For_AI/.venv/lib/python3.13/site-packages (from matplotlib) (3.2.3)\n"
     ]
    }
   ],
   "source": [
    "# Cài đặt các gói cần thiết\n",
    "!pip install kaggle pandas numpy matplotlib seaborn"
   ]
  },
  {
   "cell_type": "markdown",
   "id": "91da3873",
   "metadata": {},
   "source": [
    "## 2. Import Thư Viện và Thiết Lập\n",
    "\n",
    "Import các thư viện cần thiết bao gồm kaggle, os, zipfile, và pandas để xử lý dữ liệu."
   ]
  },
  {
   "cell_type": "code",
   "execution_count": 2,
   "id": "535a48e9",
   "metadata": {},
   "outputs": [
    {
     "name": "stdout",
     "output_type": "stream",
     "text": [
      "Thư viện đã được import thành công!\n"
     ]
    }
   ],
   "source": [
    "import os\n",
    "import zipfile\n",
    "import pandas as pd\n",
    "import numpy as np\n",
    "from pathlib import Path\n",
    "import shutil\n",
    "from kaggle.api.kaggle_api_extended import KaggleApi\n",
    "\n",
    "print(\"Thư viện đã được import thành công!\")"
   ]
  },
  {
   "cell_type": "markdown",
   "id": "38de6394",
   "metadata": {},
   "source": [
    "## 3. Cấu Hình Kaggle API\n",
    "\n",
    "Thiết lập thông tin xác thực Kaggle API và cấu hình để truy cập dataset.\n",
    "\n",
    "**Lưu ý**: Đảm bảo bạn có file `kaggle.json` trong thư mục `~/.kaggle/`. Bạn có thể tải xuống từ cài đặt tài khoản Kaggle của mình."
   ]
  },
  {
   "cell_type": "code",
   "execution_count": 3,
   "id": "19036351",
   "metadata": {},
   "outputs": [
    {
     "name": "stdout",
     "output_type": "stream",
     "text": [
      "Kaggle API đã được xác thực thành công!\n",
      "Dataset mục tiêu: kritanjalijain/amazon-reviews\n"
     ]
    }
   ],
   "source": [
    "# Khởi tạo Kaggle API\n",
    "api = KaggleApi()\n",
    "api.authenticate()\n",
    "\n",
    "print(\"Kaggle API đã được xác thực thành công!\")\n",
    "\n",
    "# Tên định danh dataset\n",
    "dataset_name = \"kritanjalijain/amazon-reviews\"\n",
    "print(f\"Dataset mục tiêu: {dataset_name}\")"
   ]
  },
  {
   "cell_type": "markdown",
   "id": "83074f1c",
   "metadata": {},
   "source": [
    "## 4. Tạo Thư Mục Dữ Liệu\n",
    "\n",
    "Tạo thư mục 'data' cục bộ để lưu trữ dataset đã tải xuống, đảm bảo nó tồn tại và có cấu trúc phù hợp."
   ]
  },
  {
   "cell_type": "code",
   "execution_count": null,
   "id": "83c92acf",
   "metadata": {},
   "outputs": [
    {
     "name": "stdout",
     "output_type": "stream",
     "text": [
      "Thư mục dữ liệu đã được tạo: /Users/ducqhle/Documents/UIT_workspace/Project_Python_For_AI/notebook/data\n",
      "Thư mục đánh giá Amazon: /Users/ducqhle/Documents/UIT_workspace/Project_Python_For_AI/notebook/data/amazon_reviews\n",
      "\n",
      "Nội dung hiện tại của thư mục data:\n",
      "  - amazon_reviews\n"
     ]
    }
   ],
   "source": [
    "# Định nghĩa đường dẫn thư mục dữ liệu\n",
    "data_dir = Path(\"../data\")\n",
    "amazon_data_dir = data_dir / \"amazon_reviews\"\n",
    "\n",
    "# Tạo thư mục nếu chúng không tồn tại\n",
    "data_dir.mkdir(exist_ok=True)\n",
    "amazon_data_dir.mkdir(exist_ok=True)\n",
    "\n",
    "print(f\"Thư mục dữ liệu đã được tạo: {data_dir.absolute()}\")\n",
    "print(f\"Thư mục đánh giá Amazon: {amazon_data_dir.absolute()}\")\n",
    "\n",
    "# Liệt kê nội dung hiện có\n",
    "print(\"\\nNội dung hiện tại của thư mục data:\")\n",
    "for item in data_dir.iterdir():\n",
    "    print(f\"  - {item.name}\")"
   ]
  },
  {
   "cell_type": "markdown",
   "id": "58da1370",
   "metadata": {},
   "source": [
    "## 5. Tải Dataset Đánh Giá Amazon\n",
    "\n",
    "Sử dụng Kaggle API để tải xuống dataset Amazon Reviews từ URL đã chỉ định vào thư mục data cục bộ."
   ]
  },
  {
   "cell_type": "code",
   "execution_count": 5,
   "id": "85084dd7",
   "metadata": {},
   "outputs": [
    {
     "name": "stdout",
     "output_type": "stream",
     "text": [
      "Đang tải dataset: kritanjalijain/amazon-reviews\n",
      "Đích đến: /Users/ducqhle/Documents/UIT_workspace/Project_Python_For_AI/notebook/data/amazon_reviews\n",
      "Dataset URL: https://www.kaggle.com/datasets/kritanjalijain/amazon-reviews\n",
      "✅ Dataset đã được tải xuống và giải nén thành công!\n"
     ]
    }
   ],
   "source": [
    "# Tải xuống dataset\n",
    "print(f\"Đang tải dataset: {dataset_name}\")\n",
    "print(f\"Đích đến: {amazon_data_dir.absolute()}\")\n",
    "\n",
    "try:\n",
    "    api.dataset_download_files(\n",
    "        dataset_name, \n",
    "        path=str(amazon_data_dir), \n",
    "        unzip=True\n",
    "    )\n",
    "    print(\"✅ Dataset đã được tải xuống và giải nén thành công!\")\n",
    "except Exception as e:\n",
    "    print(f\"❌ Lỗi khi tải dataset: {e}\")\n",
    "    print(\"Vui lòng kiểm tra thông tin xác thực Kaggle API và kết nối internet.\")"
   ]
  },
  {
   "cell_type": "markdown",
   "id": "f83e9f87",
   "metadata": {},
   "source": [
    "## 6. Giải Nén và Tổ Chức Dữ Liệu\n",
    "\n",
    "Giải nén các file zip đã tải xuống và tổ chức các file dữ liệu trong cấu trúc thư mục phù hợp."
   ]
  },
  {
   "cell_type": "code",
   "execution_count": 6,
   "id": "13aa0f3c",
   "metadata": {},
   "outputs": [
    {
     "name": "stdout",
     "output_type": "stream",
     "text": [
      "Không tìm thấy file zip bổ sung nào để giải nén.\n",
      "\n",
      "📁 Hoàn thành tổ chức dữ liệu!\n"
     ]
    }
   ],
   "source": [
    "# Kiểm tra các file zip còn lại và giải nén chúng\n",
    "zip_files = list(amazon_data_dir.glob(\"*.zip\"))\n",
    "\n",
    "if zip_files:\n",
    "    print(f\"Tìm thấy {len(zip_files)} file zip để giải nén:\")\n",
    "    for zip_file in zip_files:\n",
    "        print(f\"  - {zip_file.name}\")\n",
    "        \n",
    "        # Giải nén file zip\n",
    "        with zipfile.ZipFile(zip_file, 'r') as zip_ref:\n",
    "            zip_ref.extractall(amazon_data_dir)\n",
    "        \n",
    "        # Xóa file zip sau khi giải nén\n",
    "        zip_file.unlink()\n",
    "        print(f\"    ✅ Đã giải nén và xóa {zip_file.name}\")\n",
    "else:\n",
    "    print(\"Không tìm thấy file zip bổ sung nào để giải nén.\")\n",
    "\n",
    "print(\"\\n📁 Hoàn thành tổ chức dữ liệu!\")"
   ]
  },
  {
   "cell_type": "markdown",
   "id": "e5351a6f",
   "metadata": {},
   "source": [
    "## 7. Kiểm Tra Dữ Liệu Đã Tải\n",
    "\n",
    "Kiểm tra các file đã tải xuống, hiển thị kích thước file, và xem trước cấu trúc dữ liệu để xác nhận tải xuống thành công."
   ]
  },
  {
   "cell_type": "code",
   "execution_count": 7,
   "id": "a73355d6",
   "metadata": {},
   "outputs": [
    {
     "name": "stdout",
     "output_type": "stream",
     "text": [
      "📋 Các file đã tải:\n",
      "==================================================\n",
      "  📄 test.csv (167.9 MB)\n",
      "  📄 amazon_review_polarity_csv.tgz (656.5 MB)\n",
      "  📄 train.csv (1.5 GB)\n",
      "\n",
      "==================================================\n",
      "📊 Tóm tắt: 3 file, Tổng kích thước: 2.3 GB\n"
     ]
    }
   ],
   "source": [
    "# Liệt kê tất cả file trong thư mục amazon reviews\n",
    "print(\"📋 Các file đã tải:\")\n",
    "print(\"=\" * 50)\n",
    "\n",
    "total_size = 0\n",
    "file_count = 0\n",
    "\n",
    "for file_path in amazon_data_dir.rglob(\"*\"):\n",
    "    if file_path.is_file():\n",
    "        file_size = file_path.stat().st_size\n",
    "        total_size += file_size\n",
    "        file_count += 1\n",
    "        \n",
    "        # Chuyển đổi bytes sang định dạng dễ đọc\n",
    "        if file_size < 1024:\n",
    "            size_str = f\"{file_size} B\"\n",
    "        elif file_size < 1024**2:\n",
    "            size_str = f\"{file_size/1024:.1f} KB\"\n",
    "        elif file_size < 1024**3:\n",
    "            size_str = f\"{file_size/(1024**2):.1f} MB\"\n",
    "        else:\n",
    "            size_str = f\"{file_size/(1024**3):.1f} GB\"\n",
    "        \n",
    "        rel_path = file_path.relative_to(amazon_data_dir)\n",
    "        print(f\"  📄 {rel_path} ({size_str})\")\n",
    "\n",
    "# Tổng kích thước\n",
    "if total_size < 1024**3:\n",
    "    total_size_str = f\"{total_size/(1024**2):.1f} MB\"\n",
    "else:\n",
    "    total_size_str = f\"{total_size/(1024**3):.1f} GB\"\n",
    "\n",
    "print(\"\\n\" + \"=\" * 50)\n",
    "print(f\"📊 Tóm tắt: {file_count} file, Tổng kích thước: {total_size_str}\")"
   ]
  }
 ],
 "metadata": {
  "kernelspec": {
   "display_name": ".venv",
   "language": "python",
   "name": "python3"
  },
  "language_info": {
   "codemirror_mode": {
    "name": "ipython",
    "version": 3
   },
   "file_extension": ".py",
   "mimetype": "text/x-python",
   "name": "python",
   "nbconvert_exporter": "python",
   "pygments_lexer": "ipython3",
   "version": "3.13.5"
  }
 },
 "nbformat": 4,
 "nbformat_minor": 5
}
