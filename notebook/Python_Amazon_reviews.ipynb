{
  "metadata": {
    "kernelspec": {
      "language": "python",
      "display_name": "Python 3",
      "name": "python3"
    },
    "language_info": {
      "name": "python",
      "version": "3.11.13",
      "mimetype": "text/x-python",
      "codemirror_mode": {
        "name": "ipython",
        "version": 3
      },
      "pygments_lexer": "ipython3",
      "nbconvert_exporter": "python",
      "file_extension": ".py"
    },
    "kaggle": {
      "accelerator": "none",
      "dataSources": [
        {
          "sourceId": 2233682,
          "sourceType": "datasetVersion",
          "datasetId": 1340369
        }
      ],
      "dockerImageVersionId": 31089,
      "isInternetEnabled": false,
      "language": "python",
      "sourceType": "notebook",
      "isGpuEnabled": false
    },
    "colab": {
      "provenance": []
    }
  },
  "nbformat_minor": 0,
  "nbformat": 4,
  "cells": [
    {
      "source": [
        "# IMPORTANT: RUN THIS CELL IN ORDER TO IMPORT YOUR KAGGLE DATA SOURCES,\n",
        "# THEN FEEL FREE TO DELETE THIS CELL.\n",
        "# NOTE: THIS NOTEBOOK ENVIRONMENT DIFFERS FROM KAGGLE'S PYTHON\n",
        "# ENVIRONMENT SO THERE MAY BE MISSING LIBRARIES USED BY YOUR\n",
        "# NOTEBOOK.\n",
        "import kagglehub\n",
        "kritanjalijain_amazon_reviews_path = kagglehub.dataset_download('kritanjalijain/amazon-reviews')\n",
        "\n",
        "print('Data source import complete.')\n"
      ],
      "metadata": {
        "id": "iue0hunCKrv1",
        "colab": {
          "base_uri": "https://localhost:8080/"
        },
        "outputId": "6f70cbf9-9485-4bfd-8591-2dece1521c88"
      },
      "cell_type": "code",
      "outputs": [
        {
          "output_type": "stream",
          "name": "stdout",
          "text": [
            "Data source import complete.\n"
          ]
        }
      ],
      "execution_count": 1
    },
    {
      "cell_type": "code",
      "source": [
        "# This Python 3 environment comes with many helpful analytics libraries installed\n",
        "# It is defined by the kaggle/python Docker image: https://github.com/kaggle/docker-python\n",
        "# For example, here's several helpful packages to load\n",
        "\n",
        "import numpy as np # linear algebra\n",
        "import pandas as pd # data processing, CSV file I/O (e.g. pd.read_csv)\n",
        "import tarfile # this is to extract the data from that .tgz file\n",
        "\n",
        "# Input data files are available in the read-only \"../input/\" directory\n",
        "# For example, running this (by clicking run or pressing Shift+Enter) will list all files under the input directory\n",
        "\n",
        "import os\n",
        "for dirname, _, filenames in os.walk('/kaggle/input'):\n",
        "    for filename in filenames:\n",
        "        print(os.path.join(dirname, filename))\n",
        "\n",
        "# You can write up to 20GB to the current directory (/kaggle/working/) that gets preserved as output when you create a version using \"Save & Run All\"\n",
        "# You can also write temporary files to /kaggle/temp/, but they won't be saved outside of the current session"
      ],
      "metadata": {
        "_uuid": "8f2839f25d086af736a60e9eeb907d3b93b6e0e5",
        "_cell_guid": "b1076dfc-b9ad-4769-8c92-a6c4dae69d19",
        "trusted": true,
        "execution": {
          "iopub.status.busy": "2025-08-13T10:20:18.550365Z",
          "iopub.execute_input": "2025-08-13T10:20:18.551316Z",
          "iopub.status.idle": "2025-08-13T10:20:18.559019Z",
          "shell.execute_reply.started": "2025-08-13T10:20:18.551289Z",
          "shell.execute_reply": "2025-08-13T10:20:18.55788Z"
        },
        "id": "1yX92fTMKrv2",
        "outputId": "b12df7bf-53c7-404e-a60b-47b3b6affe33",
        "colab": {
          "base_uri": "https://localhost:8080/"
        }
      },
      "outputs": [
        {
          "output_type": "stream",
          "name": "stdout",
          "text": [
            "/kaggle/input/amazon-reviews/amazon_review_polarity_csv.tgz\n",
            "/kaggle/input/amazon-reviews/train.csv\n",
            "/kaggle/input/amazon-reviews/test.csv\n"
          ]
        }
      ],
      "execution_count": 2
    },
    {
      "cell_type": "code",
      "source": [
        "# get all of the data out of that .tgz\n",
        "amazon_reviews = tarfile.open('/kaggle/input/amazon-reviews/amazon_review_polarity_csv.tgz')\n",
        "amazon_reviews.extractall('data')\n",
        "amazon_reviews.close()"
      ],
      "metadata": {
        "trusted": true,
        "execution": {
          "iopub.status.busy": "2025-08-13T10:20:18.560652Z",
          "iopub.execute_input": "2025-08-13T10:20:18.561079Z",
          "iopub.status.idle": "2025-08-13T10:20:37.328603Z",
          "shell.execute_reply.started": "2025-08-13T10:20:18.561056Z",
          "shell.execute_reply": "2025-08-13T10:20:37.327579Z"
        },
        "id": "SaCese6_Krv2"
      },
      "outputs": [],
      "execution_count": 3
    },
    {
      "cell_type": "code",
      "source": [
        "import os\n",
        "for dirname, _, filenames in os.walk('./'):\n",
        "    for filename in filenames:\n",
        "        print(os.path.join(dirname, filename))"
      ],
      "metadata": {
        "trusted": true,
        "execution": {
          "iopub.status.busy": "2025-08-13T10:20:37.329754Z",
          "iopub.execute_input": "2025-08-13T10:20:37.330019Z",
          "iopub.status.idle": "2025-08-13T10:20:37.336829Z",
          "shell.execute_reply.started": "2025-08-13T10:20:37.329998Z",
          "shell.execute_reply": "2025-08-13T10:20:37.335653Z"
        },
        "id": "R9aIYaSrKrv2",
        "outputId": "c04383aa-910e-40ee-d786-012d7616e74c",
        "colab": {
          "base_uri": "https://localhost:8080/"
        }
      },
      "outputs": [
        {
          "output_type": "stream",
          "name": "stdout",
          "text": [
            "./.config/.last_opt_in_prompt.yaml\n",
            "./.config/default_configs.db\n",
            "./.config/.last_update_check.json\n",
            "./.config/config_sentinel\n",
            "./.config/.last_survey_prompt.yaml\n",
            "./.config/active_config\n",
            "./.config/hidden_gcloud_config_universe_descriptor_data_cache_configs.db\n",
            "./.config/gce\n",
            "./.config/logs/2025.08.11/13.35.45.017566.log\n",
            "./.config/logs/2025.08.11/13.35.30.203988.log\n",
            "./.config/logs/2025.08.11/13.35.54.455059.log\n",
            "./.config/logs/2025.08.11/13.35.02.204179.log\n",
            "./.config/logs/2025.08.11/13.35.55.205921.log\n",
            "./.config/logs/2025.08.11/13.35.39.125256.log\n",
            "./.config/configurations/config_default\n",
            "./data/amazon_review_polarity_csv/test.csv\n",
            "./data/amazon_review_polarity_csv/readme.txt\n",
            "./data/amazon_review_polarity_csv/train.csv\n",
            "./sample_data/anscombe.json\n",
            "./sample_data/README.md\n",
            "./sample_data/california_housing_test.csv\n",
            "./sample_data/california_housing_train.csv\n",
            "./sample_data/mnist_test.csv\n",
            "./sample_data/mnist_train_small.csv\n"
          ]
        }
      ],
      "execution_count": 4
    },
    {
      "cell_type": "code",
      "source": [
        "# check out what the data looks like before you get started\n",
        "# look at the training data set\n",
        "train_df = pd.read_csv('./data/amazon_review_polarity_csv/train.csv', header=None)\n",
        "print(train_df.head())"
      ],
      "metadata": {
        "trusted": true,
        "execution": {
          "iopub.status.busy": "2025-08-13T10:20:37.339068Z",
          "iopub.execute_input": "2025-08-13T10:20:37.339387Z",
          "iopub.status.idle": "2025-08-13T10:20:59.897375Z",
          "shell.execute_reply.started": "2025-08-13T10:20:37.33936Z",
          "shell.execute_reply": "2025-08-13T10:20:59.896376Z"
        },
        "id": "Eg1WWJpXKrv3",
        "outputId": "454bb028-2ff5-4f92-9e5a-45534baf2fbd",
        "colab": {
          "base_uri": "https://localhost:8080/"
        }
      },
      "outputs": [
        {
          "output_type": "stream",
          "name": "stdout",
          "text": [
            "   0                                                  1  \\\n",
            "0  2                     Stuning even for the non-gamer   \n",
            "1  2              The best soundtrack ever to anything.   \n",
            "2  2                                           Amazing!   \n",
            "3  2                               Excellent Soundtrack   \n",
            "4  2  Remember, Pull Your Jaw Off The Floor After He...   \n",
            "\n",
            "                                                   2  \n",
            "0  This sound track was beautiful! It paints the ...  \n",
            "1  I'm reading a lot of reviews saying that this ...  \n",
            "2  This soundtrack is my favorite music of all ti...  \n",
            "3  I truly like this soundtrack and I enjoy video...  \n",
            "4  If you've played the game, you know how divine...  \n"
          ]
        }
      ],
      "execution_count": 5
    },
    {
      "cell_type": "code",
      "source": [
        "# look at the test data set\n",
        "test_df = pd.read_csv('./data/amazon_review_polarity_csv/test.csv', header=None)\n",
        "print(test_df.head())"
      ],
      "metadata": {
        "trusted": true,
        "execution": {
          "iopub.status.busy": "2025-08-13T10:20:59.898411Z",
          "iopub.execute_input": "2025-08-13T10:20:59.898772Z",
          "iopub.status.idle": "2025-08-13T10:21:02.481424Z",
          "shell.execute_reply.started": "2025-08-13T10:20:59.898735Z",
          "shell.execute_reply": "2025-08-13T10:21:02.480509Z"
        },
        "id": "_08R_l0AKrv3",
        "outputId": "f1863337-aacb-47e7-ddb5-d062d52b3651",
        "colab": {
          "base_uri": "https://localhost:8080/"
        }
      },
      "outputs": [
        {
          "output_type": "stream",
          "name": "stdout",
          "text": [
            "   0                                                  1  \\\n",
            "0  2                                           Great CD   \n",
            "1  2  One of the best game music soundtracks - for a...   \n",
            "2  1                   Batteries died within a year ...   \n",
            "3  2              works fine, but Maha Energy is better   \n",
            "4  2                       Great for the non-audiophile   \n",
            "\n",
            "                                                   2  \n",
            "0  My lovely Pat has one of the GREAT voices of h...  \n",
            "1  Despite the fact that I have only played a sma...  \n",
            "2  I bought this charger in Jul 2003 and it worke...  \n",
            "3  Check out Maha Energy's website. Their Powerex...  \n",
            "4  Reviewed quite a bit of the combo players and ...  \n"
          ]
        }
      ],
      "execution_count": 6
    }
  ]
}